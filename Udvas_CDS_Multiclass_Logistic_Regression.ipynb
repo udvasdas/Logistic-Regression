{
 "cells": [
  {
   "cell_type": "code",
   "execution_count": 1,
   "id": "c8418782",
   "metadata": {},
   "outputs": [],
   "source": [
    "import numpy as np\n",
    "import pandas as pd\n",
    "from sklearn.preprocessing import OneHotEncoder\n",
    "from scipy.special import softmax\n",
    "onehot_encoder = OneHotEncoder(sparse=False)\n",
    "from sklearn.preprocessing import StandardScaler\n",
    "from sklearn.model_selection import train_test_split\n",
    "from sklearn.datasets import load_iris"
   ]
  },
  {
   "cell_type": "code",
   "execution_count": 2,
   "id": "16017428",
   "metadata": {},
   "outputs": [],
   "source": [
    "def loss(X, Y, W):\n",
    "    Z = - np.matmul(X,W)\n",
    "    N = X.shape[0]\n",
    "    loss = 1/N * (np.trace(X @ W @ Y.T) + np.sum(np.log(np.sum(np.exp(Z), axis=1))))\n",
    "    return loss\n",
    "\n",
    "def gradient(X, Y, W):\n",
    "    Z = - np.matmul(X,W)\n",
    "    P = softmax(Z, axis=1)\n",
    "    N = X.shape[0]\n",
    "    gd = 1/N * np.matmul(X.T,(Y - P)) \n",
    "    return gd\n",
    "\n",
    "def gradient_descent(X, Y, iteration=1000, lr=0.001):\n",
    "    Y_onehot = onehot_encoder.fit_transform(Y.reshape(-1,1))\n",
    "    W = np.zeros((X.shape[1], Y_onehot.shape[1]))\n",
    "    step = 0\n",
    "    step_lst = [] \n",
    "    loss_lst = []\n",
    "    W_lst = []\n",
    " \n",
    "    while step < iteration:\n",
    "        step += 1\n",
    "        W = W - lr * gradient(X, Y_onehot, W)\n",
    "        step_lst.append(step)\n",
    "        W_lst.append(W)\n",
    "        loss_lst.append(loss(X, Y_onehot, W))\n",
    "\n",
    "    df = pd.DataFrame({\n",
    "        'step': step_lst, \n",
    "        'loss': loss_lst\n",
    "    })\n",
    "    return df, W"
   ]
  },
  {
   "cell_type": "code",
   "execution_count": 3,
   "id": "a7437fa7",
   "metadata": {},
   "outputs": [],
   "source": [
    "class Multiclass:\n",
    "    def fit(self, X, Y):\n",
    "        self.loss_steps, self.W = gradient_descent(X, Y)\n",
    "\n",
    "    def loss_plot(self):\n",
    "        return self.loss_steps.plot(\n",
    "            x='step', \n",
    "            y='loss',\n",
    "            xlabel='step',\n",
    "            ylabel='loss'\n",
    "        )\n",
    "\n",
    "    def predict(self, H):\n",
    "        Z = - np.matmul(H,self.W)\n",
    "        P = softmax(Z, axis=1)\n",
    "        return np.argmax(P, axis=1)\n",
    "    \n",
    "    def accuracy(self,test_x,test_y):\n",
    "        predictions = self.predict(np.array(test_x))\n",
    "        return sum(predictions==np.array(test_y))/len(np.array(test_y))\n",
    "        "
   ]
  },
  {
   "cell_type": "markdown",
   "id": "f62e16ae",
   "metadata": {},
   "source": [
    "# Contraceptive Method Choice data"
   ]
  },
  {
   "cell_type": "code",
   "execution_count": 24,
   "id": "9b634787",
   "metadata": {
    "scrolled": true
   },
   "outputs": [],
   "source": [
    "data = pd.read_csv(\"C:/Users/udvas/Downloads/contraceptive.csv\")\n",
    "first_row = np.array(data.columns,dtype=\"float64\")\n",
    "data.columns = [\"Wife's_age\", \"Wife's_education\",\"Husband's_education\",\n",
    "               \"Number_children\",\"Wife's_religion\",\"Wife's_now_working?\",\n",
    "               \"Husband's_occupation\",\"Standard-of-living_index\",\n",
    "               \"Media_exposure\",\"Contraceptive_method_used\"]\n",
    "y = data.iloc[:,9]\n",
    "y.replace([1,2,3],[0,1,2],inplace=True)\n",
    "x = data.iloc[:,range(0,9)]\n"
   ]
  },
  {
   "cell_type": "code",
   "execution_count": 5,
   "id": "923bebe1",
   "metadata": {},
   "outputs": [],
   "source": [
    "x_train,x_test, y_train, y_test = train_test_split(x, y, test_size=0.2,random_state= 42)"
   ]
  },
  {
   "cell_type": "code",
   "execution_count": 6,
   "id": "116b794f",
   "metadata": {},
   "outputs": [],
   "source": [
    "model = Multiclass()\n",
    "model.fit(np.array(x_train), np.array(y_train))"
   ]
  },
  {
   "cell_type": "code",
   "execution_count": 7,
   "id": "9fce7799",
   "metadata": {},
   "outputs": [
    {
     "data": {
      "text/plain": [
       "<AxesSubplot:xlabel='step', ylabel='loss'>"
      ]
     },
     "execution_count": 7,
     "metadata": {},
     "output_type": "execute_result"
    },
    {
     "data": {
      "image/png": "[encoded data removed]",
      "text/plain": [
       "<Figure size 432x288 with 1 Axes>"
      ]
     },
     "metadata": {
      "needs_background": "light"
     },
     "output_type": "display_data"
    }
   ],
   "source": [
    "model.loss_plot()"
   ]
  },
  {
   "cell_type": "code",
   "execution_count": 8,
   "id": "d40844cd",
   "metadata": {},
   "outputs": [],
   "source": [
    "predictions = model.predict(np.array(x_test))"
   ]
  },
  {
   "cell_type": "code",
   "execution_count": 9,
   "id": "1b5d660c",
   "metadata": {},
   "outputs": [
    {
     "data": {
      "text/plain": [
       "0.47796610169491527"
      ]
     },
     "execution_count": 9,
     "metadata": {},
     "output_type": "execute_result"
    }
   ],
   "source": [
    "model.accuracy(x_test,y_test)"
   ]
  },
  {
   "cell_type": "code",
   "execution_count": 10,
   "id": "d25a63e2",
   "metadata": {},
   "outputs": [
    {
     "data": {
      "text/plain": [
       "0.47578589634664403"
      ]
     },
     "execution_count": 10,
     "metadata": {},
     "output_type": "execute_result"
    }
   ],
   "source": [
    "model.accuracy(x_train,y_train)"
   ]
  },
  {
   "cell_type": "markdown",
   "id": "90e090f2",
   "metadata": {},
   "source": [
    "## For IRIS dataset"
   ]
  },
  {
   "cell_type": "code",
   "execution_count": 16,
   "id": "e794f36a",
   "metadata": {},
   "outputs": [],
   "source": [
    "X_iris = load_iris().data\n",
    "Y_iris = load_iris().target"
   ]
  },
  {
   "cell_type": "code",
   "execution_count": 17,
   "id": "e381454d",
   "metadata": {},
   "outputs": [],
   "source": [
    "x_train_iris,x_test_iris, y_train_iris, y_test_iris = train_test_split(X_iris, Y_iris, test_size=0.2,random_state= 42)"
   ]
  },
  {
   "cell_type": "code",
   "execution_count": 18,
   "id": "c1de0ea5",
   "metadata": {},
   "outputs": [],
   "source": [
    "model.fit(x_train_iris,y_train_iris)"
   ]
  },
  {
   "cell_type": "code",
   "execution_count": 20,
   "id": "cab30269",
   "metadata": {},
   "outputs": [
    {
     "data": {
      "text/plain": [
       "<AxesSubplot:xlabel='step', ylabel='loss'>"
      ]
     },
     "execution_count": 20,
     "metadata": {},
     "output_type": "execute_result"
    },
    {
     "data": {
      "image/png": "[encoded data removed]",
      "text/plain": [
       "<Figure size 432x288 with 1 Axes>"
      ]
     },
     "metadata": {
      "needs_background": "light"
     },
     "output_type": "display_data"
    }
   ],
   "source": [
    "model.loss_plot()"
   ]
  },
  {
   "cell_type": "code",
   "execution_count": 21,
   "id": "8ec871aa",
   "metadata": {},
   "outputs": [
    {
     "name": "stdout",
     "output_type": "stream",
     "text": [
      "Training accuracy on the iris dataset  0.7\n"
     ]
    }
   ],
   "source": [
    "print(\"Training accuracy on the iris dataset \",model.accuracy(x_test_iris,y_test_iris))"
   ]
  },
  {
   "cell_type": "code",
   "execution_count": 22,
   "id": "3785b488",
   "metadata": {},
   "outputs": [
    {
     "name": "stdout",
     "output_type": "stream",
     "text": [
      "Testing accuracy on the iris dataset  0.675\n"
     ]
    }
   ],
   "source": [
    "print(\"Testing accuracy on the iris dataset \",model.accuracy(x_train_iris,y_train_iris))"
   ]
  },
  {
   "cell_type": "code",
   "execution_count": null,
   "id": "5e31e2d8",
   "metadata": {},
   "outputs": [],
   "source": []
  }
 ],
 "metadata": {
  "kernelspec": {
   "display_name": "Python 3",
   "language": "python",
   "name": "python3"
  },
  "language_info": {
   "codemirror_mode": {
    "name": "ipython",
    "version": 3
   },
   "file_extension": ".py",
   "mimetype": "text/x-python",
   "name": "python",
   "nbconvert_exporter": "python",
   "pygments_lexer": "ipython3",
   "version": "3.8.8"
  }
 },
 "nbformat": 4,
 "nbformat_minor": 5
}
